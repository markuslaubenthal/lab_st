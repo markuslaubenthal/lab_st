{
 "cells": [
  {
   "cell_type": "code",
   "execution_count": null,
   "metadata": {},
   "outputs": [],
   "source": [
    "# Author: Lennard Alms // Compare to boilerplate to see whats different"
   ]
  },
  {
   "cell_type": "code",
   "execution_count": null,
   "metadata": {
    "colab": {
     "base_uri": "https://localhost:8080/"
    },
    "id": "7QhqkVHHXe9m",
    "outputId": "6063a564-1c15-494b-a812-49bf052e75fe"
   },
   "outputs": [
    {
     "name": "stdout",
     "output_type": "stream",
     "text": [
      "2021-01-30 12:05:38 URL:https://storage.googleapis.com/laubenthal_spatiolab/spatio_merged_data_iss.zip [37282886/37282886] -> \"spatio_merged_data_iss.zip\" [1]\n",
      "Archive:  spatio_merged_data_iss.zip\n",
      "   creating: input/\n",
      "  inflating: input/.DS_Store         \n",
      "  inflating: __MACOSX/input/._.DS_Store  \n",
      "  inflating: input/grid_ML.geojson   \n",
      "  inflating: __MACOSX/input/._grid_ML.geojson  \n",
      "  inflating: input/internet_ML.csv   \n",
      "  inflating: __MACOSX/input/._internet_ML.csv  \n",
      "  inflating: input/satelite.png      \n",
      "  inflating: __MACOSX/input/._satelite.png  \n",
      "  inflating: input/weather.csv       \n",
      "  inflating: __MACOSX/input/._weather.csv  \n",
      "  inflating: input/social_pulse_ML.csv  \n",
      "  inflating: __MACOSX/input/._social_pulse_ML.csv  \n"
     ]
    }
   ],
   "source": [
    "# edit this when working in a local environment\n",
    "!wget \"https://storage.googleapis.com/laubenthal_spatiolab/spatio_merged_data_iss.zip\" --no-verbose\n",
    "!unzip spatio_merged_data_iss.zip\n",
    "!rm spatio_merged_data_iss.zip"
   ]
  },
  {
   "cell_type": "code",
   "execution_count": null,
   "metadata": {
    "colab": {
     "base_uri": "https://localhost:8080/"
    },
    "id": "nZ1nZzGkr5Jg",
    "outputId": "7f296aff-c68f-452d-ed37-56fc3af8a86b"
   },
   "outputs": [
    {
     "name": "stdout",
     "output_type": "stream",
     "text": [
      "Cloning into 'functions'...\n",
      "remote: Enumerating objects: 233, done.\u001b[K\n",
      "remote: Counting objects: 100% (233/233), done.\u001b[K\n",
      "remote: Compressing objects: 100% (153/153), done.\u001b[K\n",
      "remote: Total 547 (delta 167), reused 144 (delta 80), pack-reused 314\u001b[K\n",
      "Receiving objects: 100% (547/547), 192.97 KiB | 7.42 MiB/s, done.\n",
      "Resolving deltas: 100% (364/364), done.\n"
     ]
    }
   ],
   "source": [
    "# edit this when working in a local environment\n",
    "!rm -rf functions\n",
    "!git clone https://github.com/markuslaubenthal/lab_st.git functions"
   ]
  },
  {
   "cell_type": "code",
   "execution_count": null,
   "metadata": {
    "id": "OPc1Iy8WXivI"
   },
   "outputs": [],
   "source": [
    "import pandas as pd\n",
    "import matplotlib.pyplot as plt\n",
    "import cv2\n",
    "import numpy as np\n",
    "from tensorflow import keras\n",
    "from tensorflow.keras import layers, activations\n",
    "from keras import backend as K\n",
    "from keras.engine.topology import Layer\n",
    "import tensorflow as tf"
   ]
  },
  {
   "cell_type": "code",
   "execution_count": null,
   "metadata": {
    "id": "B0WgyYa4Go-6"
   },
   "outputs": [],
   "source": [
    "from functions.preprocessing.DataImport import load_and_scale_internet, load_and_scale_satelite, load_and_scale_social, load_and_scale_weather, create_space_invariant\n",
    "from functions.preprocessing.DataGeneration import generate_dataset, generate_label, getFileHandler, get_datasets_from_file\n",
    "from functions.postprocessing.ErrorEvaluation import calculate_errors\n",
    "from functions.preprocessing.TestTrainSplit import seven_days_train_test_split\n",
    "from scipy.linalg import lstsq"
   ]
  },
  {
   "cell_type": "code",
   "execution_count": null,
   "metadata": {
    "id": "iYvtwt9ReLDR"
   },
   "outputs": [],
   "source": [
    "f = getFileHandler(\"training_data.h5\")"
   ]
  },
  {
   "cell_type": "code",
   "execution_count": null,
   "metadata": {
    "id": "SJOdgb9tJS-z"
   },
   "outputs": [],
   "source": [
    "internet, internet_origin, internet_min, internet_max = load_and_scale_internet('input/internet_ML.csv', f)\n",
    "satelite = load_and_scale_satelite('input/satelite.png', f)[:]\n",
    "social = load_and_scale_social('input/social_pulse_ML.csv', f)[:]\n",
    "weather = load_and_scale_weather('input/weather.csv', f)[:]\n",
    "hour, weekday, holiday = create_space_invariant(f)\n",
    "hour = hour[:]\n",
    "weekday = weekday[:]\n",
    "holiday = holiday[:]"
   ]
  },
  {
   "cell_type": "code",
   "execution_count": null,
   "metadata": {
    "id": "VHXT0DBtM19h"
   },
   "outputs": [],
   "source": [
    "steps_back = np.array([0, 1, 2, 3, 20, 21, 22, 23, 24, 143, 165, 166, 167]) + 1\n",
    "#steps_back = np.arange(1,168,8)\n",
    "x = generate_dataset(internet, steps_back, 168, f, \"x\")[:]\n",
    "y = generate_label(internet, 168, f)\n",
    "y = y[:].reshape(y.shape[0], 100, 100)\n",
    "y_train = seven_days_train_test_split(y, 168)[0]"
   ]
  },
  {
   "cell_type": "code",
   "execution_count": null,
   "metadata": {
    "id": "zhpVxb34TIHo"
   },
   "outputs": [],
   "source": [
    "def build_matrix(_y, _x, leave_out):\n",
    "  global x, satelite, social, weather, hour, weekday\n",
    "\n",
    "  M = np.zeros((x.shape[0],1))\n",
    "  multiplier = x[:,_y,_x,0]\n",
    "\n",
    "  if not 'bias' in leave_out:\n",
    "    M[:,0] = 1\n",
    "\n",
    "  if not 'social' in leave_out:\n",
    "    M = np.concatenate((M, (social[168:,_y,_x] * multiplier)[:,np.newaxis]), axis=1)\n",
    "\n",
    "  if not 'weather' in leave_out:\n",
    "    M = np.concatenate((M, (weather[168:,_y,_x] * multiplier)[:,np.newaxis]), axis=1)\n",
    "\n",
    "  if not 'weekday' in leave_out:\n",
    "    M = np.concatenate((M, weekday[168:] * multiplier[:,np.newaxis]), axis=1)\n",
    "\n",
    "  if not 'hour' in leave_out:\n",
    "    M = np.concatenate((M, hour[168:] * multiplier[:,np.newaxis]), axis=1)\n",
    "\n",
    "  if not 'self' in leave_out:\n",
    "    M = np.concatenate((M, multiplier[:,np.newaxis]), axis=1)\n",
    "\n",
    "  if not 'last steps mult' in leave_out:\n",
    "    M = np.concatenate((M, x[:,_y,_x] * multiplier[:,np.newaxis]), axis=1)\n",
    "\n",
    "  if not 'last steps add' in leave_out:\n",
    "    M = np.concatenate((M, x[:,_y,_x]), axis=1)\n",
    "\n",
    "  return M"
   ]
  },
  {
   "cell_type": "code",
   "execution_count": null,
   "metadata": {
    "colab": {
     "base_uri": "https://localhost:8080/"
    },
    "id": "4058VGmfWtza",
    "outputId": "503bb41e-9f96-4a7d-cc7b-cd43cb9e303d"
   },
   "outputs": [
    {
     "name": "stdout",
     "output_type": "stream",
     "text": [
      "nothing\n",
      "(773,)\n",
      "(7594,)\n",
      "all:  76.89885129191889\n",
      "test:  79.6160083765225\n",
      "val:  54.74722594408941\n"
     ]
    }
   ],
   "source": [
    "features = ['nothing', 'bias', 'social', 'weekday', 'weather', 'hour', 'self', 'last steps mult', 'last steps add']\n",
    "for leave_out in features:\n",
    "  print(leave_out)\n",
    "\n",
    "  shape_run = seven_days_train_test_split(build_matrix(0,0,[leave_out]), 168)[0]\n",
    "\n",
    "  weights = np.zeros((100,100,shape_run.shape[1]))\n",
    "  for _y in range(100):\n",
    "    for _x in range(100):\n",
    "      M = build_matrix(_y,_x,[leave_out, 'holiday'])\n",
    "      x_train = seven_days_train_test_split(M, 168)[0]\n",
    "      weights[_y,_x] = lstsq(x_train, y_train[:,_y,_x])[0]\n",
    "\n",
    "  pred = np.zeros(y.shape)\n",
    "  for _y in range(100):\n",
    "    for _x in range(100):\n",
    "      M = build_matrix(_y,_x,[leave_out, 'holiday'])\n",
    "      pred[:,_y,_x] = (M * weights[np.newaxis,_y,_x]).sum(axis=1)\n",
    "\n",
    "  print(pred[np.where(pred > 1)].shape)\n",
    "  print(pred[np.where(pred < 0)].shape)\n",
    "  pred[np.where(pred > 1)] = 1\n",
    "  pred[np.where(pred < 0)] = 0\n",
    "\n",
    "  calculate_errors(pred, internet_origin, internet_min, internet_max, max_lookback=168)\n",
    "  break"
   ]
  },
  {
   "cell_type": "code",
   "execution_count": null,
   "metadata": {
    "id": "CiXjyN7N1uAA"
   },
   "outputs": [],
   "source": [
    "def calculate_MAE(predd_in, basee_in, internet_min, internet_max, max_lookback=168, test_size=168, log10 = True):\n",
    "    predd = predd_in.copy()\n",
    "    predd = predd.reshape((predd.shape[0],10000)).T\n",
    "    predd = predd * (internet_max - internet_min) + internet_min\n",
    "    if log10:\n",
    "        predd = np.power(np.full(predd.shape, 10), predd) - 1\n",
    "\n",
    "    basee = basee_in[:,max_lookback:]\n",
    "\n",
    "    print('all: ', np.abs(predd-basee).mean())\n",
    "    print('test: ', np.abs(predd[:,:-test_size]-basee[:,:-test_size]).mean())\n",
    "    print('val: ', np.abs(predd[:,-test_size:]-basee[:,-test_size:]).mean())\n",
    "\n",
    "    return predd, basee\n"
   ]
  },
  {
   "cell_type": "code",
   "execution_count": null,
   "metadata": {
    "colab": {
     "base_uri": "https://localhost:8080/"
    },
    "id": "R2qSWrnnMdfw",
    "outputId": "c74bd4e2-80c1-4f13-a5fa-67ed2aa79a7f"
   },
   "outputs": [
    {
     "name": "stdout",
     "output_type": "stream",
     "text": [
      "all:  29.454963135795435\n",
      "test:  30.477551493012\n",
      "val:  22.44292868631064\n"
     ]
    },
    {
     "data": {
      "text/plain": [
       "(array([[ 54.0447184 ,  42.98873119,  34.02804835, ...,  83.36375732,\n",
       "          81.72916177,  75.65215259],\n",
       "        [ 54.18577154,  43.16097347,  34.13114689, ...,  83.63916851,\n",
       "          81.83102282,  77.11279927],\n",
       "        [ 54.40845244,  43.36868477,  34.32086845, ...,  84.00796146,\n",
       "          82.30344021,  76.2425252 ],\n",
       "        ...,\n",
       "        [178.53015733, 171.30805611, 155.80836108, ..., 104.82308972,\n",
       "          94.95922121,  95.14142935],\n",
       "        [108.14524591, 111.33343308, 105.60596404, ...,   0.        ,\n",
       "           0.        ,   0.        ],\n",
       "        [ 79.74797191,  75.03016073,  69.73980285, ...,   0.        ,\n",
       "           0.        ,   0.        ]]),\n",
       " array([[ 49.86,  37.71,  32.08, ...,  79.57,  80.87,  66.74],\n",
       "        [ 50.07,  37.85,  32.16, ...,  79.89,  81.21,  66.91],\n",
       "        [ 50.3 ,  37.99,  32.26, ...,  80.22,  81.58,  67.09],\n",
       "        ...,\n",
       "        [216.59, 181.59, 134.79, ...,  92.32,  91.57,  68.52],\n",
       "        [145.35, 120.49,  81.16, ...,   0.  ,   0.  ,   0.  ],\n",
       "        [ 87.83,  81.95,  68.39, ...,   0.  ,   0.  ,   0.  ]],\n",
       "       dtype=float32))"
      ]
     },
     "execution_count": 14,
     "metadata": {
      "tags": []
     },
     "output_type": "execute_result"
    }
   ],
   "source": [
    "calculate_MAE(pred, internet_origin, internet_min, internet_max, max_lookback=168)"
   ]
  }
 ],
 "metadata": {
  "colab": {
   "collapsed_sections": [],
   "name": "save_Feature_Test_Baseline_LeastSquares.ipynb",
   "provenance": []
  },
  "kernelspec": {
   "display_name": "Python 3",
   "language": "python",
   "name": "python3"
  },
  "language_info": {
   "codemirror_mode": {
    "name": "ipython",
    "version": 3
   },
   "file_extension": ".py",
   "mimetype": "text/x-python",
   "name": "python",
   "nbconvert_exporter": "python",
   "pygments_lexer": "ipython3",
   "version": "3.9.0"
  }
 },
 "nbformat": 4,
 "nbformat_minor": 1
}
