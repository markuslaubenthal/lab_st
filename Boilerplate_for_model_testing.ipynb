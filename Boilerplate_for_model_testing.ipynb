{
 "cells": [
  {
   "cell_type": "code",
   "execution_count": null,
   "metadata": {},
   "outputs": [],
   "source": [
    "# Authors: Markus Laubenthal, Lennard Alms"
   ]
  },
  {
   "cell_type": "code",
   "execution_count": 1,
   "metadata": {
    "colab": {
     "base_uri": "https://localhost:8080/"
    },
    "id": "7QhqkVHHXe9m",
    "outputId": "caa8b509-9af5-4d7f-a1b8-23589d7262fe"
   },
   "outputs": [
    {
     "name": "stdout",
     "output_type": "stream",
     "text": [
      "2021-01-18 15:25:42 URL:https://storage.googleapis.com/laubenthal_spatiolab/spatio_merged_data_iss.zip [37282886/37282886] -> \"spatio_merged_data_iss.zip\" [1]\n",
      "Archive:  spatio_merged_data_iss.zip\n",
      "   creating: input/\n",
      "  inflating: input/.DS_Store         \n",
      "  inflating: __MACOSX/input/._.DS_Store  \n",
      "  inflating: input/grid_ML.geojson   \n",
      "  inflating: __MACOSX/input/._grid_ML.geojson  \n",
      "  inflating: input/internet_ML.csv   \n",
      "  inflating: __MACOSX/input/._internet_ML.csv  \n",
      "  inflating: input/satelite.png      \n",
      "  inflating: __MACOSX/input/._satelite.png  \n",
      "  inflating: input/weather.csv       \n",
      "  inflating: __MACOSX/input/._weather.csv  \n",
      "  inflating: input/social_pulse_ML.csv  \n",
      "  inflating: __MACOSX/input/._social_pulse_ML.csv  \n"
     ]
    }
   ],
   "source": [
    "# edit this when working in a local environment\n",
    "!wget \"https://storage.googleapis.com/laubenthal_spatiolab/spatio_merged_data_iss.zip\" --no-verbose\n",
    "!unzip spatio_merged_data_iss.zip\n",
    "!rm spatio_merged_data_iss.zip"
   ]
  },
  {
   "cell_type": "code",
   "execution_count": 6,
   "metadata": {
    "colab": {
     "base_uri": "https://localhost:8080/"
    },
    "id": "nZ1nZzGkr5Jg",
    "outputId": "f37c6ba7-f892-4de3-8d71-151b11ccdc16"
   },
   "outputs": [
    {
     "name": "stdout",
     "output_type": "stream",
     "text": [
      "Cloning into 'functions'...\n",
      "remote: Enumerating objects: 104, done.\u001b[K\n",
      "remote: Counting objects: 100% (104/104), done.\u001b[K\n",
      "remote: Compressing objects: 100% (76/76), done.\u001b[K\n",
      "remote: Total 104 (delta 45), reused 76 (delta 24), pack-reused 0\u001b[K\n",
      "Receiving objects: 100% (104/104), 149.41 KiB | 4.04 MiB/s, done.\n",
      "Resolving deltas: 100% (45/45), done.\n"
     ]
    }
   ],
   "source": [
    "# edit this when working in a local environment\n",
    "!rm -rf functions\n",
    "!git clone https://github.com/markuslaubenthal/lab_st.git functions"
   ]
  },
  {
   "cell_type": "code",
   "execution_count": 7,
   "metadata": {
    "id": "OPc1Iy8WXivI"
   },
   "outputs": [],
   "source": [
    "import pandas as pd\n",
    "import matplotlib.pyplot as plt\n",
    "import cv2\n",
    "import numpy as np\n",
    "from tensorflow import keras\n",
    "from tensorflow.keras import layers, activations\n",
    "from keras import backend as K\n",
    "from keras.engine.topology import Layer\n",
    "import tensorflow as tf"
   ]
  },
  {
   "cell_type": "code",
   "execution_count": 9,
   "metadata": {
    "id": "B0WgyYa4Go-6"
   },
   "outputs": [],
   "source": [
    "from functions.preprocessing.DataImport import load_and_scale_internet, load_and_scale_satelite, load_and_scale_social, load_and_scale_weather, create_space_invariant\n",
    "from functions.preprocessing.DataGeneration import generate_dataset, generate_label, getFileHandler, get_datasets_from_file"
   ]
  },
  {
   "cell_type": "code",
   "execution_count": 11,
   "metadata": {
    "id": "iYvtwt9ReLDR"
   },
   "outputs": [],
   "source": [
    "f = getFileHandler(\"training_data.h5\")"
   ]
  },
  {
   "cell_type": "code",
   "execution_count": 13,
   "metadata": {
    "id": "SJOdgb9tJS-z"
   },
   "outputs": [],
   "source": [
    "internet, internet_origin, internet_min, internet_max = load_and_scale_internet('input/internet_ML.csv', f)\n",
    "satelite = load_and_scale_satelite('input/satelite.png', f)\n",
    "social = load_and_scale_social('input/social_pulse_ML.csv', f)\n",
    "weather = load_and_scale_weather('input/weather.csv', f)\n",
    "hour, weekday, holiday = create_space_invariant(f)"
   ]
  },
  {
   "cell_type": "code",
   "execution_count": 14,
   "metadata": {
    "id": "VHXT0DBtM19h"
   },
   "outputs": [],
   "source": [
    "steps_back = [1,2,3]\n",
    "x = generate_dataset(internet, steps_back, 168, f, \"x\")\n",
    "y = generate_label(internet, 168, f)"
   ]
  },
  {
   "cell_type": "code",
   "execution_count": 15,
   "metadata": {
    "id": "UzWh4D_2x4s3"
   },
   "outputs": [],
   "source": [
    "from functions.preprocessing.TestTrainSplit import seven_days_train_test_split\n",
    "\n",
    "x_train, x_test = seven_days_train_test_split(x, 168)\n",
    "y_train, y_test = seven_days_train_test_split(y, 168)"
   ]
  },
  {
   "cell_type": "code",
   "execution_count": null,
   "metadata": {
    "id": "IRZNJlWHMSNs"
   },
   "outputs": [],
   "source": [
    "# implement your model here"
   ]
  },
  {
   "cell_type": "code",
   "execution_count": null,
   "metadata": {},
   "outputs": [],
   "source": [
    "# train your model here on x_train predicting y_train"
   ]
  },
  {
   "cell_type": "code",
   "execution_count": null,
   "metadata": {
    "id": "ZYRgzBMitO7T"
   },
   "outputs": [],
   "source": [
    "# to evaluate the model do something like\n",
    "# pred = model.predict(x)\n",
    "# predict the entire sequence here"
   ]
  },
  {
   "cell_type": "code",
   "execution_count": null,
   "metadata": {
    "id": "cSmKwHGEMru4"
   },
   "outputs": [],
   "source": [
    "from functions.postprocessing.ErrorEvaluation import calculate_errors"
   ]
  },
  {
   "cell_type": "code",
   "execution_count": null,
   "metadata": {
    "id": "dNJicQCHMRzA"
   },
   "outputs": [],
   "source": [
    "pred_rescalled, base = calculate_errors(pred, internet_origin, internet_min, internet_max)"
   ]
  },
  {
   "cell_type": "code",
   "execution_count": null,
   "metadata": {
    "id": "ZAHZg0OtmaQ1"
   },
   "outputs": [],
   "source": [
    "# reference plot\n",
    "plt.figure(figsize=(20,10))\n",
    "plt.plot(range(400), base[2878,100:500], label='base')\n",
    "plt.plot(range(400), pred_rescalled[2878,100:500], label='pred')\n",
    "plt.legend()"
   ]
  }
 ],
 "metadata": {
  "colab": {
   "collapsed_sections": [],
   "name": "StLab_Clean_Data_github.ipynb",
   "provenance": []
  },
  "kernelspec": {
   "display_name": "Python 3",
   "language": "python",
   "name": "python3"
  },
  "language_info": {
   "codemirror_mode": {
    "name": "ipython",
    "version": 3
   },
   "file_extension": ".py",
   "mimetype": "text/x-python",
   "name": "python",
   "nbconvert_exporter": "python",
   "pygments_lexer": "ipython3",
   "version": "3.9.0"
  }
 },
 "nbformat": 4,
 "nbformat_minor": 1
}
