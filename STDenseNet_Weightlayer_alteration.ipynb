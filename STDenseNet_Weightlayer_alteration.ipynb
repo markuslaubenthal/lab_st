{
  "nbformat": 4,
  "nbformat_minor": 0,
  "metadata": {
    "colab": {
      "name": "STDenseNet - Weightlayer alteration.ipynb",
      "provenance": [],
      "collapsed_sections": []
    },
    "kernelspec": {
      "name": "python3",
      "display_name": "Python 3"
    },
    "accelerator": "GPU"
  },
  "cells": [
    {
      "cell_type": "markdown",
      "metadata": {
        "id": "Uxj3J-igeRqf"
      },
      "source": [
        "# Author: Markus Laubenthal\n",
        "STDenseNet with moved weight matrix position.\n",
        "\n",
        "In this Notebook the 1-D convolution of the DenseBlock is replaced by a weight matrix that weighs every feature map for every cell individually."
      ]
    },
    {
      "cell_type": "code",
      "metadata": {
        "id": "7QhqkVHHXe9m",
        "colab": {
          "base_uri": "https://localhost:8080/"
        },
        "outputId": "6a5d341d-5958-412f-cb00-4a129358c47e"
      },
      "source": [
        "!wget \"https://storage.googleapis.com/laubenthal_spatiolab/spatio_merged_data_iss.zip\" --no-verbose\n",
        "!unzip spatio_merged_data_iss.zip\n",
        "!rm spatio_merged_data_iss.zip"
      ],
      "execution_count": 1,
      "outputs": [
        {
          "output_type": "stream",
          "text": [
            "2021-01-31 17:18:22 URL:https://storage.googleapis.com/laubenthal_spatiolab/spatio_merged_data_iss.zip [37282886/37282886] -> \"spatio_merged_data_iss.zip\" [1]\n",
            "Archive:  spatio_merged_data_iss.zip\n",
            "   creating: input/\n",
            "  inflating: input/.DS_Store         \n",
            "  inflating: __MACOSX/input/._.DS_Store  \n",
            "  inflating: input/grid_ML.geojson   \n",
            "  inflating: __MACOSX/input/._grid_ML.geojson  \n",
            "  inflating: input/internet_ML.csv   \n",
            "  inflating: __MACOSX/input/._internet_ML.csv  \n",
            "  inflating: input/satelite.png      \n",
            "  inflating: __MACOSX/input/._satelite.png  \n",
            "  inflating: input/weather.csv       \n",
            "  inflating: __MACOSX/input/._weather.csv  \n",
            "  inflating: input/social_pulse_ML.csv  \n",
            "  inflating: __MACOSX/input/._social_pulse_ML.csv  \n"
          ],
          "name": "stdout"
        }
      ]
    },
    {
      "cell_type": "code",
      "metadata": {
        "colab": {
          "base_uri": "https://localhost:8080/"
        },
        "id": "nZ1nZzGkr5Jg",
        "outputId": "63b582e3-92ca-425f-d2eb-24215b26e84f"
      },
      "source": [
        "!rm -rf functions\n",
        "!git clone https://github.com/markuslaubenthal/lab_st.git functions\n",
        "!cd functions && git checkout original_plus_hadamard"
      ],
      "execution_count": 2,
      "outputs": [
        {
          "output_type": "stream",
          "text": [
            "Cloning into 'functions'...\n",
            "remote: Enumerating objects: 260, done.\u001b[K\n",
            "remote: Counting objects: 100% (260/260), done.\u001b[K\n",
            "remote: Compressing objects: 100% (175/175), done.\u001b[K\n",
            "remote: Total 574 (delta 178), reused 157 (delta 83), pack-reused 314\u001b[K\n",
            "Receiving objects: 100% (574/574), 893.58 KiB | 25.53 MiB/s, done.\n",
            "Resolving deltas: 100% (375/375), done.\n",
            "Branch 'original_plus_hadamard' set up to track remote branch 'original_plus_hadamard' from 'origin'.\n",
            "Switched to a new branch 'original_plus_hadamard'\n"
          ],
          "name": "stdout"
        }
      ]
    },
    {
      "cell_type": "code",
      "metadata": {
        "id": "OPc1Iy8WXivI"
      },
      "source": [
        "import pandas as pd\n",
        "import matplotlib.pyplot as plt\n",
        "import cv2\n",
        "import numpy as np\n",
        "from tensorflow import keras\n",
        "from tensorflow.keras import layers, activations\n",
        "from keras import backend as K\n",
        "from keras.engine.topology import Layer\n",
        "import tensorflow as tf\n",
        "\n",
        "from functions.preprocessing.DataGeneration import generate_dataset, generate_label, getFileHandler, get_datasets_from_file\n",
        "from keras.optimizers import SGD, Adam\n"
      ],
      "execution_count": 3,
      "outputs": []
    },
    {
      "cell_type": "code",
      "metadata": {
        "id": "MY_wHJ5AIPF_"
      },
      "source": [
        "from functions.preprocessing.DataImport import load_and_scale_internet, load_and_scale_satelite, load_and_scale_social, load_and_scale_weather, create_space_invariant\n",
        "from functions.preprocessing.DataGeneration import generate_dataset, generate_label, getFileHandler, get_datasets_from_file"
      ],
      "execution_count": 4,
      "outputs": []
    },
    {
      "cell_type": "code",
      "metadata": {
        "id": "iYvtwt9ReLDR"
      },
      "source": [
        "f = getFileHandler('training_data.h5')\n",
        "internet, internet_origin, internet_min, internet_max = load_and_scale_internet('input/internet_ML.csv', f, log10=False, min_max_axis=1)\n"
      ],
      "execution_count": 5,
      "outputs": []
    },
    {
      "cell_type": "code",
      "metadata": {
        "id": "VHXT0DBtM19h"
      },
      "source": [
        "x_closeness = generate_dataset(internet, [1,2,3], 168, f, \"closeness\")\n",
        "x_period = generate_dataset(internet, [24, 25, 48, 49, 72, 73, 96, 97, 120, 121, 144, 145, 167, 168], 168, f, \"period\")\n",
        "y = generate_label(internet, 168, f)\n",
        "\n"
      ],
      "execution_count": 6,
      "outputs": []
    },
    {
      "cell_type": "code",
      "metadata": {
        "id": "UzWh4D_2x4s3"
      },
      "source": [
        "from functions.preprocessing.TestTrainSplit import seven_days_train_test_split\n",
        "\n",
        "x_closeness_train, x_closeness_test = seven_days_train_test_split(x_closeness, 168)\n",
        "x_period_train, x_period_test = seven_days_train_test_split(x_period, 168)\n",
        "y_train, y_test = seven_days_train_test_split(y, 168)"
      ],
      "execution_count": 7,
      "outputs": []
    },
    {
      "cell_type": "code",
      "metadata": {
        "id": "IRZNJlWHMSNs"
      },
      "source": [
        "from functions.model.SplitDenseNetFactory import SplitDenseNetFactory\n",
        "from keras.optimizers import SGD, Adam\n",
        "dn = SplitDenseNetFactory()\n",
        "model = dn.Model((x_closeness_train.shape[3], x_period_train.shape[3]), depth=8, growth_rate=8, initial_filters=8, time_embedding_method=None, t_minus_one=False)"
      ],
      "execution_count": 8,
      "outputs": []
    },
    {
      "cell_type": "code",
      "metadata": {
        "colab": {
          "base_uri": "https://localhost:8080/"
        },
        "id": "NYD9rTf20x44",
        "outputId": "08ed0ecb-4c91-441f-ec50-722430ebb547"
      },
      "source": [
        "def scheduler(epoch, lr):\n",
        "  return lr / 10 ** (epoch // 10)\n",
        "\n",
        "\n",
        "lr = 0.0001\n",
        "epochs = 16\n",
        "model.compile(optimizer=Adam(lr=lr, decay= lr/float(epochs)),\n",
        "              loss='mse',\n",
        "              metrics=[tf.keras.metrics.RootMeanSquaredError()],\n",
        "              )\n",
        "\n",
        "\n",
        "model.fit([x_closeness_train, x_period_train], y_train,\n",
        "          validation_data=([x_closeness_test, x_period_test], y_test), epochs=epochs\n",
        "          )"
      ],
      "execution_count": 10,
      "outputs": [
        {
          "output_type": "stream",
          "text": [
            "Epoch 1/16\n",
            "36/36 [==============================] - 8s 184ms/step - loss: 0.0042 - root_mean_squared_error: 0.0645 - val_loss: 0.0035 - val_root_mean_squared_error: 0.0588\n",
            "Epoch 2/16\n",
            "36/36 [==============================] - 6s 175ms/step - loss: 0.0041 - root_mean_squared_error: 0.0637 - val_loss: 0.0030 - val_root_mean_squared_error: 0.0546\n",
            "Epoch 3/16\n",
            "36/36 [==============================] - 6s 176ms/step - loss: 0.0042 - root_mean_squared_error: 0.0646 - val_loss: 0.0028 - val_root_mean_squared_error: 0.0533\n",
            "Epoch 4/16\n",
            "36/36 [==============================] - 6s 175ms/step - loss: 0.0039 - root_mean_squared_error: 0.0625 - val_loss: 0.0027 - val_root_mean_squared_error: 0.0516\n",
            "Epoch 5/16\n",
            "36/36 [==============================] - 6s 176ms/step - loss: 0.0042 - root_mean_squared_error: 0.0646 - val_loss: 0.0025 - val_root_mean_squared_error: 0.0503\n",
            "Epoch 6/16\n",
            "36/36 [==============================] - 6s 177ms/step - loss: 0.0041 - root_mean_squared_error: 0.0638 - val_loss: 0.0024 - val_root_mean_squared_error: 0.0490\n",
            "Epoch 7/16\n",
            "36/36 [==============================] - 6s 177ms/step - loss: 0.0041 - root_mean_squared_error: 0.0640 - val_loss: 0.0024 - val_root_mean_squared_error: 0.0491\n",
            "Epoch 8/16\n",
            "36/36 [==============================] - 6s 177ms/step - loss: 0.0041 - root_mean_squared_error: 0.0644 - val_loss: 0.0024 - val_root_mean_squared_error: 0.0495\n",
            "Epoch 9/16\n",
            "36/36 [==============================] - 6s 178ms/step - loss: 0.0040 - root_mean_squared_error: 0.0632 - val_loss: 0.0023 - val_root_mean_squared_error: 0.0484\n",
            "Epoch 10/16\n",
            "36/36 [==============================] - 6s 178ms/step - loss: 0.0039 - root_mean_squared_error: 0.0624 - val_loss: 0.0024 - val_root_mean_squared_error: 0.0489\n",
            "Epoch 11/16\n",
            "36/36 [==============================] - 6s 180ms/step - loss: 0.0039 - root_mean_squared_error: 0.0628 - val_loss: 0.0024 - val_root_mean_squared_error: 0.0486\n",
            "Epoch 12/16\n",
            "36/36 [==============================] - 6s 179ms/step - loss: 0.0040 - root_mean_squared_error: 0.0630 - val_loss: 0.0023 - val_root_mean_squared_error: 0.0478\n",
            "Epoch 13/16\n",
            "36/36 [==============================] - 6s 180ms/step - loss: 0.0040 - root_mean_squared_error: 0.0630 - val_loss: 0.0023 - val_root_mean_squared_error: 0.0481\n",
            "Epoch 14/16\n",
            "36/36 [==============================] - 6s 180ms/step - loss: 0.0039 - root_mean_squared_error: 0.0625 - val_loss: 0.0023 - val_root_mean_squared_error: 0.0481\n",
            "Epoch 15/16\n",
            "36/36 [==============================] - 6s 180ms/step - loss: 0.0039 - root_mean_squared_error: 0.0624 - val_loss: 0.0023 - val_root_mean_squared_error: 0.0478\n",
            "Epoch 16/16\n",
            "36/36 [==============================] - 6s 180ms/step - loss: 0.0039 - root_mean_squared_error: 0.0622 - val_loss: 0.0023 - val_root_mean_squared_error: 0.0481\n"
          ],
          "name": "stdout"
        },
        {
          "output_type": "execute_result",
          "data": {
            "text/plain": [
              "<tensorflow.python.keras.callbacks.History at 0x7fae3a3b9f60>"
            ]
          },
          "metadata": {
            "tags": []
          },
          "execution_count": 10
        }
      ]
    },
    {
      "cell_type": "code",
      "metadata": {
        "id": "vG_oUXtRxNR_"
      },
      "source": [
        "from functions.postprocessing.ErrorEvaluation import calculate_errors"
      ],
      "execution_count": null,
      "outputs": []
    },
    {
      "cell_type": "code",
      "metadata": {
        "colab": {
          "base_uri": "https://localhost:8080/"
        },
        "id": "Bus8weyIvW2n",
        "outputId": "1f1b24ca-8bd2-4d84-b728-a56fdfbf063d"
      },
      "source": [
        "pred = model.predict([x_closeness[:], x_period[:]])\n",
        "pred, base = calculate_errors(pred, internet_origin, internet_min, internet_max, log10=False)"
      ],
      "execution_count": null,
      "outputs": [
        {
          "output_type": "stream",
          "text": [
            "all:  92.97028540378426\n",
            "test:  96.3994981451558\n",
            "val:  64.73421770896353\n"
          ],
          "name": "stdout"
        }
      ]
    },
    {
      "cell_type": "code",
      "metadata": {
        "id": "f9eb-axc_TBM"
      },
      "source": [
        ""
      ],
      "execution_count": null,
      "outputs": []
    }
  ]
}