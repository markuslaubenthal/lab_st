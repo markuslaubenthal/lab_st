{
  "nbformat": 4,
  "nbformat_minor": 0,
  "metadata": {
    "colab": {
      "name": "StLab_Clean_Data_github.ipynb",
      "provenance": [],
      "collapsed_sections": []
    },
    "kernelspec": {
      "display_name": "Python 3",
      "language": "python",
      "name": "python3"
    },
    "language_info": {
      "codemirror_mode": {
        "name": "ipython",
        "version": 3
      },
      "file_extension": ".py",
      "mimetype": "text/x-python",
      "name": "python",
      "nbconvert_exporter": "python",
      "pygments_lexer": "ipython3",
      "version": "3.7.7"
    }
  },
  "cells": [
    {
      "cell_type": "code",
      "metadata": {
        "colab": {
          "base_uri": "https://localhost:8080/"
        },
        "id": "7QhqkVHHXe9m",
        "outputId": "d8789bd6-80d7-4418-bb87-4ca2b3e3f90c"
      },
      "source": [
        "!wget \"https://storage.googleapis.com/laubenthal_spatiolab/spatio_merged_data_iss.zip\" --no-verbose\n",
        "!unzip spatio_merged_data_iss.zip\n",
        "!rm spatio_merged_data_iss.zip"
      ],
      "execution_count": 1,
      "outputs": [
        {
          "output_type": "stream",
          "text": [
            "2021-01-17 14:17:41 URL:https://storage.googleapis.com/laubenthal_spatiolab/spatio_merged_data_iss.zip [37039712/37039712] -> \"spatio_merged_data_iss.zip\" [1]\n",
            "Archive:  spatio_merged_data_iss.zip\n",
            "   creating: input/\n",
            "  inflating: input/.DS_Store         \n",
            "  inflating: __MACOSX/input/._.DS_Store  \n",
            "  inflating: input/grid_ML.geojson   \n",
            "  inflating: __MACOSX/input/._grid_ML.geojson  \n",
            "  inflating: input/satelite.png      \n",
            "  inflating: __MACOSX/input/._satelite.png  \n",
            "  inflating: input/weather.csv       \n",
            "  inflating: __MACOSX/input/._weather.csv  \n",
            "  inflating: input/social_pulse_ML.csv  \n",
            "  inflating: __MACOSX/input/._social_pulse_ML.csv  \n",
            "  inflating: input/f_internet_ML.csv  \n",
            "  inflating: __MACOSX/input/._f_internet_ML.csv  \n"
          ],
          "name": "stdout"
        }
      ]
    },
    {
      "cell_type": "code",
      "metadata": {
        "colab": {
          "base_uri": "https://localhost:8080/"
        },
        "id": "nZ1nZzGkr5Jg",
        "outputId": "dc8311aa-de47-4ffa-cfa1-b408725937e6"
      },
      "source": [
        "!rm -rf functions\n",
        "!git clone https://github.com/markuslaubenthal/lab_st.git functions"
      ],
      "execution_count": 2,
      "outputs": [
        {
          "output_type": "stream",
          "text": [
            "Cloning into 'functions'...\n",
            "remote: Enumerating objects: 38, done.\u001b[K\n",
            "remote: Counting objects: 100% (38/38), done.\u001b[K\n",
            "remote: Compressing objects: 100% (32/32), done.\u001b[K\n",
            "remote: Total 38 (delta 6), reused 33 (delta 4), pack-reused 0\u001b[K\n",
            "Unpacking objects: 100% (38/38), done.\n"
          ],
          "name": "stdout"
        }
      ]
    },
    {
      "cell_type": "code",
      "metadata": {
        "id": "OPc1Iy8WXivI"
      },
      "source": [
        "import pandas as pd\n",
        "import matplotlib.pyplot as plt\n",
        "import cv2\n",
        "import numpy as np\n",
        "from tensorflow import keras\n",
        "from tensorflow.keras import layers, activations\n",
        "from keras import backend as K\n",
        "from keras.engine.topology import Layer\n",
        "import tensorflow as tf"
      ],
      "execution_count": 3,
      "outputs": []
    },
    {
      "cell_type": "code",
      "metadata": {
        "id": "iYvtwt9ReLDR"
      },
      "source": [
        "internet_origin = pd.read_csv('input/f_internet_ML.csv' , index_col='index')\n",
        "internet_origin = internet_origin.to_numpy()\n",
        "internet = np.log10(internet_origin + 1)\n",
        "internet_max = internet.max(axis=1)\n",
        "internet_min = internet.min(axis=1)\n",
        "internet = (internet - internet_min[:,np.newaxis]) / (internet_max - internet_min)[:,np.newaxis]\n",
        "internet = internet.T.reshape((1488,100,100))\n",
        "satelite = cv2.imread('input/satelite.png')\n",
        "satelite = (satelite - satelite.min()) / (satelite.max() - satelite.min())\n",
        "satelite = np.flip(satelite, axis=0)\n",
        "social = pd.read_csv('input/social_pulse_ML.csv', index_col=0)\n",
        "social = social.to_numpy()\n",
        "social = (social - social.min(axis=1)[:,np.newaxis]) / (social.max(axis=1) - social.min(axis=1) + 1)[:,np.newaxis]\n",
        "social = social.T.reshape((1488,100,100))\n",
        "weather = pd.read_csv('input/weather.csv', index_col=0)\n",
        "weather = weather.to_numpy()\n",
        "weather = (weather - weather.min(axis=1)[:,np.newaxis]) / (weather.max(axis=1) - weather.min(axis=1) + 1)[:,np.newaxis]\n",
        "weather = weather.T.reshape((1488,100,100))\n",
        "hour = np.zeros((1488,24))\n",
        "weekday = np.zeros((1488,7))\n",
        "holiday = np.zeros((1488))\n",
        "for i in range(1488):\n",
        "  hour[i, i % 24] = 1\n",
        "  day = i // 24\n",
        "  weekday[i,day % 7] = 1\n",
        "  if day % 7 in [1,2]:\n",
        "    holiday[i] = 1\n",
        "  elif day in [0,54,56,61,62]:\n",
        "    holiday[i] = 1"
      ],
      "execution_count": 4,
      "outputs": []
    },
    {
      "cell_type": "code",
      "metadata": {
        "id": "VHXT0DBtM19h"
      },
      "source": [
        "from functions.preprocessing.DataGeneration import generate_dataset, generate_label, getFileHandler, get_datasets_from_file\n",
        "f = getFileHandler(\"training_data.h5\")\n",
        "x_closeness = generate_dataset(internet, [1,2,3], 168, f, \"closeness\")\n",
        "x_period = generate_dataset(internet, [7,14,21,168], 168, f, \"period\")\n",
        "y = generate_label(internet, 168, f)"
      ],
      "execution_count": null,
      "outputs": []
    },
    {
      "cell_type": "code",
      "metadata": {
        "id": "UzWh4D_2x4s3"
      },
      "source": [
        "from functions.preprocessing.TestTrainSplit import seven_days_train_test_split\n",
        "\n",
        "x_closeness_train, x_closeness_test = seven_days_train_test_split(x_closeness, 168)\n",
        "x_period_train, x_period_test = seven_days_train_test_split(x_period, 168)\n",
        "y_train, y_test = seven_days_train_test_split(y, 168)"
      ],
      "execution_count": null,
      "outputs": []
    },
    {
      "cell_type": "code",
      "metadata": {
        "id": "IRZNJlWHMSNs"
      },
      "source": [
        "from functions.model.SplitDenseNetFactory import SplitDenseNetFactory\n",
        "from keras.optimizers import SGD, Adam\n",
        "dn = SplitDenseNetFactory()\n",
        "model = dn.Model(4,3)\n",
        "lr = 0.01\n",
        "epochs = 20\n",
        "model.compile(optimizer=Adam(lr=lr, decay= lr/float(epochs)),\n",
        "              loss='mse',\n",
        "              metrics=[tf.keras.metrics.RootMeanSquaredError()]\n",
        "              )\n",
        "model.fit([x_closeness_train, x_period_train], y_train, epochs=32)\n",
        "\n"
      ],
      "execution_count": null,
      "outputs": []
    },
    {
      "cell_type": "code",
      "metadata": {
        "id": "ZYRgzBMitO7T"
      },
      "source": [
        "# something like\n",
        "# pred = model.predict([x_closeness,x_period])"
      ],
      "execution_count": null,
      "outputs": []
    },
    {
      "cell_type": "code",
      "metadata": {
        "id": "dNJicQCHMRzA"
      },
      "source": [
        "# takes prediction pred for the entire sequence\n",
        "pred = pred.reshape((pred.shape[0],10000)).T\n",
        "pred = pred * (internet_max - internet_min)[:,np.newaxis] + internet_min[:,np.newaxis]\n",
        "pred = np.power(np.full(pred.shape, 10), pred)\n",
        "base = internet_origin[:,168:]\n",
        "print('all: ', np.sqrt(((pred-base)**2).mean()))\n",
        "print('test: ', np.sqrt(((pred[:,:-168]-base[:,:-168])**2).mean()))\n",
        "print('val: ', np.sqrt(((pred[:,-168:]-base[:,-168:])**2).mean()))"
      ],
      "execution_count": null,
      "outputs": []
    },
    {
      "cell_type": "code",
      "metadata": {
        "id": "ZAHZg0OtmaQ1"
      },
      "source": [
        "# reference plot\n",
        "plt.figure(figsize=(20,10))\n",
        "plt.plot(range(400), base[2878,100:500], label='base')\n",
        "plt.plot(range(400), pred[2878,100:500], label='pred')\n",
        "plt.legend()"
      ],
      "execution_count": null,
      "outputs": []
    }
  ]
}
