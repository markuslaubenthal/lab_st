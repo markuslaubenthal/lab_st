{
 "cells": [
  {
   "cell_type": "code",
   "execution_count": null,
   "metadata": {},
   "outputs": [],
   "source": [
    "# Author: Lennard Alms // Compare to boilerplate to see whats different"
   ]
  },
  {
   "cell_type": "code",
   "execution_count": null,
   "metadata": {
    "colab": {
     "base_uri": "https://localhost:8080/"
    },
    "id": "7QhqkVHHXe9m",
    "outputId": "b5fb9789-c77b-4dbb-8af5-76b05ae3873a"
   },
   "outputs": [
    {
     "name": "stdout",
     "output_type": "stream",
     "text": [
      "2021-01-29 11:36:12 URL:https://storage.googleapis.com/laubenthal_spatiolab/spatio_merged_data_iss.zip [37282886/37282886] -> \"spatio_merged_data_iss.zip\" [1]\n",
      "Archive:  spatio_merged_data_iss.zip\n",
      "   creating: input/\n",
      "  inflating: input/.DS_Store         \n",
      "  inflating: __MACOSX/input/._.DS_Store  \n",
      "  inflating: input/grid_ML.geojson   \n",
      "  inflating: __MACOSX/input/._grid_ML.geojson  \n",
      "  inflating: input/internet_ML.csv   \n",
      "  inflating: __MACOSX/input/._internet_ML.csv  \n",
      "  inflating: input/satelite.png      \n",
      "  inflating: __MACOSX/input/._satelite.png  \n",
      "  inflating: input/weather.csv       \n",
      "  inflating: __MACOSX/input/._weather.csv  \n",
      "  inflating: input/social_pulse_ML.csv  \n",
      "  inflating: __MACOSX/input/._social_pulse_ML.csv  \n"
     ]
    }
   ],
   "source": [
    "# edit this when working in a local environment\n",
    "!wget \"https://storage.googleapis.com/laubenthal_spatiolab/spatio_merged_data_iss.zip\" --no-verbose\n",
    "!unzip spatio_merged_data_iss.zip\n",
    "!rm spatio_merged_data_iss.zip"
   ]
  },
  {
   "cell_type": "code",
   "execution_count": null,
   "metadata": {
    "colab": {
     "base_uri": "https://localhost:8080/"
    },
    "id": "nZ1nZzGkr5Jg",
    "outputId": "f9a3fdd0-9f36-49f9-ee49-1bd4c683c49d"
   },
   "outputs": [
    {
     "name": "stdout",
     "output_type": "stream",
     "text": [
      "Cloning into 'functions'...\n",
      "remote: Enumerating objects: 156, done.\u001b[K\n",
      "remote: Counting objects: 100% (156/156), done.\u001b[K\n",
      "remote: Compressing objects: 100% (106/106), done.\u001b[K\n",
      "remote: Total 470 (delta 109), reused 95 (delta 50), pack-reused 314\u001b[K\n",
      "Receiving objects: 100% (470/470), 187.09 KiB | 1.10 MiB/s, done.\n",
      "Resolving deltas: 100% (306/306), done.\n"
     ]
    }
   ],
   "source": [
    "# edit this when working in a local environment\n",
    "!rm -rf functions\n",
    "!git clone https://github.com/markuslaubenthal/lab_st.git functions"
   ]
  },
  {
   "cell_type": "code",
   "execution_count": null,
   "metadata": {
    "id": "OPc1Iy8WXivI"
   },
   "outputs": [],
   "source": [
    "import pandas as pd\n",
    "import matplotlib.pyplot as plt\n",
    "import cv2\n",
    "import numpy as np\n",
    "from tensorflow import keras\n",
    "from tensorflow.keras import layers, activations\n",
    "from keras import backend as K\n",
    "from keras.engine.topology import Layer\n",
    "import tensorflow as tf"
   ]
  },
  {
   "cell_type": "code",
   "execution_count": null,
   "metadata": {
    "id": "B0WgyYa4Go-6"
   },
   "outputs": [],
   "source": [
    "from functions.preprocessing.DataImport import load_and_scale_internet, load_and_scale_satelite, load_and_scale_social, load_and_scale_weather, create_space_invariant\n",
    "from functions.preprocessing.DataGeneration import generate_dataset, generate_label, getFileHandler, get_datasets_from_file\n",
    "from functions.postprocessing.ErrorEvaluation import calculate_errors"
   ]
  },
  {
   "cell_type": "code",
   "execution_count": null,
   "metadata": {
    "id": "iYvtwt9ReLDR"
   },
   "outputs": [],
   "source": [
    "f = getFileHandler(\"training_data.h5\")"
   ]
  },
  {
   "cell_type": "code",
   "execution_count": null,
   "metadata": {
    "id": "SJOdgb9tJS-z"
   },
   "outputs": [],
   "source": [
    "internet, internet_origin, internet_min, internet_max = load_and_scale_internet('input/internet_ML.csv', f)"
   ]
  },
  {
   "cell_type": "code",
   "execution_count": null,
   "metadata": {},
   "outputs": [],
   "source": [
    "# Predict no change (Constant traffic assumption)"
   ]
  },
  {
   "cell_type": "code",
   "execution_count": null,
   "metadata": {
    "id": "EsWmbm9M7ZVg"
   },
   "outputs": [],
   "source": [
    "x = generate_dataset(internet, [1], 168, f, \"x\")\n",
    "y = generate_label(internet, 168, f)\n",
    "y = y[:].reshape(y.shape[0], 100, 100)"
   ]
  },
  {
   "cell_type": "code",
   "execution_count": null,
   "metadata": {
    "colab": {
     "base_uri": "https://localhost:8080/"
    },
    "id": "8mkkwDVl7yv2",
    "outputId": "1fa73916-fdd3-416e-a850-fe11a00847b3"
   },
   "outputs": [
    {
     "name": "stdout",
     "output_type": "stream",
     "text": [
      "all:  134.34314019416885\n",
      "test:  141.33611059123365\n",
      "val:  69.48930740861125\n"
     ]
    },
    {
     "data": {
      "text/plain": [
       "(array([[ 67.07000081,  49.86000068,  37.71000023, ...,  77.68000231,\n",
       "          79.5700043 ,  80.87000269],\n",
       "        [ 67.36999933,  50.07000045,  37.84999969, ...,  77.90000315,\n",
       "          79.89000435,  81.20999596],\n",
       "        [ 67.68999864,  50.29999989,  37.9899995 , ...,  78.13000035,\n",
       "          80.22000402,  81.5799998 ],\n",
       "        ...,\n",
       "        [207.89000853, 216.59001264, 181.59000109, ..., 103.69000002,\n",
       "          92.31999786,  91.57000112],\n",
       "        [141.39997748, 145.35002161, 120.48999526, ...,   0.        ,\n",
       "           0.        ,   0.        ],\n",
       "        [135.71998931,  87.83000388,  81.95000375, ...,   0.        ,\n",
       "           0.        ,   0.        ]]),\n",
       " array([[ 49.86,  37.71,  32.08, ...,  79.57,  80.87,  66.74],\n",
       "        [ 50.07,  37.85,  32.16, ...,  79.89,  81.21,  66.91],\n",
       "        [ 50.3 ,  37.99,  32.26, ...,  80.22,  81.58,  67.09],\n",
       "        ...,\n",
       "        [216.59, 181.59, 134.79, ...,  92.32,  91.57,  68.52],\n",
       "        [145.35, 120.49,  81.16, ...,   0.  ,   0.  ,   0.  ],\n",
       "        [ 87.83,  81.95,  68.39, ...,   0.  ,   0.  ,   0.  ]],\n",
       "       dtype=float32))"
      ]
     },
     "execution_count": 12,
     "metadata": {
      "tags": []
     },
     "output_type": "execute_result"
    }
   ],
   "source": [
    "pred = np.zeros(y.shape)\n",
    "pred = x[:]\n",
    "calculate_errors(pred, internet_origin, internet_min, internet_max)"
   ]
  },
  {
   "cell_type": "code",
   "execution_count": null,
   "metadata": {},
   "outputs": [],
   "source": [
    "# Predict using the histoic average (Historical Average)"
   ]
  },
  {
   "cell_type": "code",
   "execution_count": null,
   "metadata": {
    "id": "8iDS7FZf6hdD"
   },
   "outputs": [],
   "source": [
    "x = generate_dataset(internet, [24,24*2,24*3,24*4,24*5,24*6,24*7], 168, f, \"x\")\n",
    "y = generate_label(internet, 168, f)\n",
    "y = y[:].reshape(y.shape[0], 100, 100)"
   ]
  },
  {
   "cell_type": "code",
   "execution_count": null,
   "metadata": {
    "colab": {
     "base_uri": "https://localhost:8080/"
    },
    "id": "_9MT_6Hs6iK4",
    "outputId": "bcb70cab-511a-4cf1-9cde-727f269011d0"
   },
   "outputs": [
    {
     "name": "stdout",
     "output_type": "stream",
     "text": [
      "all:  231.51487189927252\n",
      "test:  242.26448980292665\n",
      "val:  136.66041863206817\n"
     ]
    },
    {
     "data": {
      "text/plain": [
       "(array([[ 53.28485057,  44.92416716,  39.58788412, ...,  81.99456506,\n",
       "          80.39441529,  74.93854325],\n",
       "        [ 53.4280187 ,  45.03129173,  39.67213074, ...,  82.27524826,\n",
       "          80.67327491,  75.19416864],\n",
       "        [ 53.5854322 ,  45.14396585,  39.75898294, ...,  82.57264092,\n",
       "          80.96956914,  75.46159968],\n",
       "        ...,\n",
       "        [194.3142135 , 160.00823969, 149.91610557, ..., 116.07845115,\n",
       "         110.01487623, 105.69295642],\n",
       "        [116.8491283 ,  91.80157348,  83.32975694, ...,   0.        ,\n",
       "           0.        ,   0.        ],\n",
       "        [ 83.69489411,  71.40495104,  64.06514419, ...,   0.        ,\n",
       "           0.        ,   0.        ]]),\n",
       " array([[ 49.86,  37.71,  32.08, ...,  79.57,  80.87,  66.74],\n",
       "        [ 50.07,  37.85,  32.16, ...,  79.89,  81.21,  66.91],\n",
       "        [ 50.3 ,  37.99,  32.26, ...,  80.22,  81.58,  67.09],\n",
       "        ...,\n",
       "        [216.59, 181.59, 134.79, ...,  92.32,  91.57,  68.52],\n",
       "        [145.35, 120.49,  81.16, ...,   0.  ,   0.  ,   0.  ],\n",
       "        [ 87.83,  81.95,  68.39, ...,   0.  ,   0.  ,   0.  ]],\n",
       "       dtype=float32))"
      ]
     },
     "execution_count": 10,
     "metadata": {
      "tags": []
     },
     "output_type": "execute_result"
    }
   ],
   "source": [
    "pred = np.zeros(y.shape)\n",
    "pred = x[:].mean(axis=3)\n",
    "calculate_errors(pred, internet_origin, internet_min, internet_max)"
   ]
  },
  {
   "cell_type": "code",
   "execution_count": null,
   "metadata": {},
   "outputs": [],
   "source": [
    "# Predict using the exponential smoothing (Exponential Smoothing)"
   ]
  },
  {
   "cell_type": "code",
   "execution_count": null,
   "metadata": {
    "id": "VHXT0DBtM19h"
   },
   "outputs": [],
   "source": [
    "x = generate_dataset(internet, [1,24], 168, f, \"x\")\n",
    "y = generate_label(internet, 168, f)\n",
    "y = y[:].reshape(y.shape[0], 100, 100)"
   ]
  },
  {
   "cell_type": "code",
   "execution_count": null,
   "metadata": {
    "colab": {
     "base_uri": "https://localhost:8080/"
    },
    "id": "UzWh4D_2x4s3",
    "outputId": "c867d229-b91e-4059-c0a3-b6c8e3804e72"
   },
   "outputs": [
    {
     "name": "stdout",
     "output_type": "stream",
     "text": [
      "_______________________________\n",
      "alpha  0.7\n",
      "all:  124.3573989586356\n",
      "test:  130.54530308513142\n",
      "val:  68.18283361917977\n",
      "_______________________________\n",
      "alpha  0.72\n",
      "all:  123.77146892650377\n",
      "test:  129.95770283370538\n",
      "val:  67.49972632038825\n",
      "_______________________________\n",
      "alpha  0.74\n",
      "all:  123.3736342051697\n",
      "test:  129.56863014554227\n",
      "val:  66.9034623068097\n",
      "_______________________________\n",
      "alpha  0.76\n",
      "all:  123.1581776002318\n",
      "test:  129.3715867963029\n",
      "val:  66.39724657617724\n",
      "_______________________________\n",
      "alpha  0.78\n",
      "all:  123.12055012461047\n",
      "test:  129.36128856821693\n",
      "val:  65.9852574691122\n",
      "_______________________________\n",
      "alpha  0.8\n",
      "all:  123.25734743297707\n",
      "test:  129.53364831856476\n",
      "val:  65.67254595915712\n",
      "_______________________________\n",
      "alpha  0.8200000000000001\n",
      "all:  123.56635517771775\n",
      "test:  129.88583177215529\n",
      "val:  65.4649536424753\n",
      "_______________________________\n",
      "alpha  0.84\n",
      "all:  124.04652503525854\n",
      "test:  130.4162415900428\n",
      "val:  65.36896287348995\n",
      "_______________________________\n",
      "alpha  0.86\n",
      "all:  124.6980461918636\n",
      "test:  131.124602267115\n",
      "val:  65.39157490261725\n",
      "_______________________________\n",
      "alpha  0.88\n",
      "all:  125.52237181030033\n",
      "test:  132.01199782549196\n",
      "val:  65.5401480168016\n",
      "_______________________________\n",
      "alpha  0.9\n",
      "all:  126.52224288063404\n",
      "test:  133.0809070065227\n",
      "val:  65.82221946865504\n"
     ]
    }
   ],
   "source": [
    "for alpha in np.linspace(0.7,0.9,11):\n",
    "  pred = np.zeros(y.shape)\n",
    "  for t in range(x.shape[0]):\n",
    "    if t < 23:\n",
    "      predt = alpha * x[t,:,:,0] + (1 - alpha) * x[t,:,:,1]\n",
    "      pred[t] = predt\n",
    "    else:\n",
    "      predt = alpha * x[t,:,:,0] + (1 - alpha) * pred[t-23]\n",
    "      pred[t] = predt\n",
    "  print('_______________________________')\n",
    "  print('alpha ', alpha)\n",
    "  calculate_errors(pred, internet_origin, internet_min, internet_max)"
   ]
  }
 ],
 "metadata": {
  "colab": {
   "collapsed_sections": [],
   "name": "Baseline_ExpSmooth.ipynb",
   "provenance": []
  },
  "kernelspec": {
   "display_name": "Python 3",
   "language": "python",
   "name": "python3"
  },
  "language_info": {
   "codemirror_mode": {
    "name": "ipython",
    "version": 3
   },
   "file_extension": ".py",
   "mimetype": "text/x-python",
   "name": "python",
   "nbconvert_exporter": "python",
   "pygments_lexer": "ipython3",
   "version": "3.9.0"
  }
 },
 "nbformat": 4,
 "nbformat_minor": 1
}
